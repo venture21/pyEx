{
 "cells": [
  {
   "cell_type": "code",
   "execution_count": 1,
   "id": "2515865a",
   "metadata": {},
   "outputs": [],
   "source": [
    "import os"
   ]
  },
  {
   "cell_type": "code",
   "execution_count": 12,
   "id": "23b8a4fb",
   "metadata": {},
   "outputs": [
    {
     "name": "stdout",
     "output_type": "stream",
     "text": [
      "/home/park/Downloads/PetImages/Cat\n",
      "/home/park/Downloads/PetImages/Dog\n"
     ]
    },
    {
     "data": {
      "text/plain": [
       "['Cat', 'Dog']"
      ]
     },
     "execution_count": 12,
     "metadata": {},
     "output_type": "execute_result"
    }
   ],
   "source": [
    "basePath = \"/home/park/Downloads/PetImages/\"\n",
    "\n",
    "# basePath + Cats\n",
    "\n",
    "# catsPath = basePath +os.sep+ \"Cats\"\n",
    "# print(catsPath)\n",
    "# print(os.sep)\n",
    "\n",
    "# 파일 경로 관련 문자열을 붙여주는 역할하는 메소드\n",
    "catPath = os.path.join(basePath, \"Cat\")\n",
    "dogPath = os.path.join(basePath, \"Dog\")\n",
    "\n",
    "print(catPath)\n",
    "print(dogPath)\n",
    "\n",
    "# 내가 확인하고자하는 경로의 파일 목록을 보여준다.\n",
    "# ls와 비슷하다.\n",
    "filenames = os.listdir(basePath)\n",
    "filenames"
   ]
  },
  {
   "cell_type": "code",
   "execution_count": 14,
   "id": "31720e8c",
   "metadata": {},
   "outputs": [
    {
     "data": {
      "text/plain": [
       "12501"
      ]
     },
     "execution_count": 14,
     "metadata": {},
     "output_type": "execute_result"
    }
   ],
   "source": [
    "# 폴더의 파일목록을 읽어와서\n",
    "catFiles = os.listdir(catPath)\n",
    "\n",
    "# 파일 목록의 갯수를 확인\n",
    "catLeng = len(catFiles)\n",
    "\n",
    "#갯수를 출력\n",
    "catLeng"
   ]
  },
  {
   "cell_type": "code",
   "execution_count": 15,
   "id": "3ce51421",
   "metadata": {},
   "outputs": [
    {
     "data": {
      "text/plain": [
       "12501"
      ]
     },
     "execution_count": 15,
     "metadata": {},
     "output_type": "execute_result"
    }
   ],
   "source": [
    "# 폴더의 파일목록을 읽어와서\n",
    "dogFiles = os.listdir(dogPath)\n",
    "\n",
    "# 파일 목록의 갯수를 확인\n",
    "dogLeng = len(dogFiles)\n",
    "\n",
    "#갯수를 \n",
    "dogLeng"
   ]
  },
  {
   "cell_type": "code",
   "execution_count": 23,
   "id": "cb72dcbd",
   "metadata": {},
   "outputs": [
    {
     "name": "stdout",
     "output_type": "stream",
     "text": [
      "a=3, b=7, c=9\n"
     ]
    }
   ],
   "source": [
    "a=3\n",
    "b=7\n",
    "c=9\n",
    "# \"a=3, b=7, c=9\"\n",
    "print(\"a={}, b={}, c={}\".format(a,b,c))"
   ]
  },
  {
   "cell_type": "code",
   "execution_count": 25,
   "id": "5fdb92d8",
   "metadata": {},
   "outputs": [
    {
     "name": "stdout",
     "output_type": "stream",
     "text": [
      "/home/park/Downloads/PetImages/Cat/cat_0\n",
      "/home/park/Downloads/PetImages/Cat/cat_1\n",
      "/home/park/Downloads/PetImages/Cat/cat_2\n",
      "/home/park/Downloads/PetImages/Cat/cat_3\n",
      "/home/park/Downloads/PetImages/Cat/cat_4\n",
      "/home/park/Downloads/PetImages/Cat/cat_5\n",
      "/home/park/Downloads/PetImages/Cat/cat_6\n"
     ]
    }
   ],
   "source": [
    "import math\n",
    "\n",
    "\n",
    "#폴더를 생성하는 갯수를 구한다.\n",
    "folderNum = math.ceil(catLeng/2000)\n",
    "folderNum\n",
    "\n",
    "#폴더를 생성하는데 이름은 \"cat_num\"\n",
    "for i in range (0,folderNum):\n",
    "    mkname = \"cat_{}\".format(i)\n",
    "    mkname = os.path.join(catPath, mkname)\n",
    "    print(mkname)\n",
    "    os.mkdir(mkname)"
   ]
  },
  {
   "cell_type": "code",
   "execution_count": 36,
   "id": "daefbbea",
   "metadata": {},
   "outputs": [
    {
     "name": "stdout",
     "output_type": "stream",
     "text": [
      "정상적으로 폴더가 생성되었습니다.\n"
     ]
    }
   ],
   "source": [
    "catFiles = os.listdir(catPath)\n",
    "\n",
    "count = 0\n",
    "for catFile in catFiles:\n",
    "    \n",
    "    # catFile은 파일명만 보여주므로 전체 경로를 지정해줘야한다.\n",
    "    myList = os.path.join(catPath, catFile)\n",
    "    if os.path.isdir(myList):\n",
    "        count = count + 1\n",
    "\n",
    "if count==folderNum:\n",
    "    print(\"정상적으로 폴더가 생성되었습니다.\")"
   ]
  },
  {
   "cell_type": "code",
   "execution_count": null,
   "id": "09d424c6",
   "metadata": {},
   "outputs": [],
   "source": []
  }
 ],
 "metadata": {
  "kernelspec": {
   "display_name": "Python 3",
   "language": "python",
   "name": "python3"
  },
  "language_info": {
   "codemirror_mode": {
    "name": "ipython",
    "version": 3
   },
   "file_extension": ".py",
   "mimetype": "text/x-python",
   "name": "python",
   "nbconvert_exporter": "python",
   "pygments_lexer": "ipython3",
   "version": "3.8.5"
  }
 },
 "nbformat": 4,
 "nbformat_minor": 5
}
