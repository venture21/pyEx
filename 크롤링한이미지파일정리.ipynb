{
 "cells": [
  {
   "cell_type": "code",
   "execution_count": 3,
   "id": "e5a99e44",
   "metadata": {},
   "outputs": [],
   "source": [
    "import os\n",
    "\n",
    "base_dir = \"/home/park/myData\""
   ]
  },
  {
   "cell_type": "code",
   "execution_count": 7,
   "id": "fedfb625",
   "metadata": {},
   "outputs": [
    {
     "name": "stdout",
     "output_type": "stream",
     "text": [
      "86\n"
     ]
    }
   ],
   "source": [
    "filenames = os.listdir(base_dir)\n",
    "#print(filenames)\n",
    "print(len(filenames))"
   ]
  },
  {
   "cell_type": "code",
   "execution_count": 22,
   "id": "7f9b4076",
   "metadata": {},
   "outputs": [],
   "source": [
    "import shutil\n",
    "\n",
    "# 파일의 확장자가 어떤 것들이 있는가?\n",
    "# jpeg, jpg, png -> (jpeg ->jpg)\n",
    "# jpg, png\n",
    "filenames = os.listdir(base_dir)\n",
    "\n",
    "for filename in filenames:\n",
    "    name, ext = os.path.splitext(filename)\n",
    "    if ext==\".jpeg\":\n",
    "        srcname = os.path.join(base_dir, filename)\n",
    "        newname = \"{}.jpg\".format(count)\n",
    "        dstname = os.path.join(base_dir,newname)\n",
    "        #print(srcname)\n",
    "        #print(dstname)\n",
    "        shutil.move(srcname, dstname)"
   ]
  },
  {
   "cell_type": "code",
   "execution_count": 18,
   "id": "d0b7af63",
   "metadata": {},
   "outputs": [],
   "source": [
    "# jpg 파일들의 파일명을 변경한다.\n",
    "\n",
    "filenames = os.listdir(base_dir)\n",
    "\n",
    "count = 0\n",
    "\n",
    "for filename in filenames:\n",
    "    name, ext = os.path.splitext(filename)\n",
    "    if ext=='.jpg':\n",
    "        srcname = os.path.join(base_dir, filename)\n",
    "        newname = \"{}.jpg\".format(count)\n",
    "        dstname = os.path.join(base_dir, newname)\n",
    "        #print(srcname)\n",
    "        #print(dstname)\n",
    "        count = count + 1\n",
    "        shutil.move(srcname, dstname)        "
   ]
  },
  {
   "cell_type": "code",
   "execution_count": 21,
   "id": "bbd39caf",
   "metadata": {},
   "outputs": [],
   "source": [
    "filenames = os.listdir(base_dir)\n",
    "count = 0\n",
    "for filename in filenames:\n",
    "    name, ext = os.path.splitext(filename)\n",
    "    if ext=='.png':\n",
    "        srcname = os.path.join(base_dir, filename)\n",
    "        newname = \"{}.png\".format(count)\n",
    "        dstname = os.path.join(base_dir, newname)\n",
    "        #print(srcname)\n",
    "        #print(dstname)\n",
    "        count = count + 1\n",
    "        shutil.move(srcname, dstname)  "
   ]
  },
  {
   "cell_type": "code",
   "execution_count": null,
   "id": "041ee4c9",
   "metadata": {},
   "outputs": [],
   "source": []
  }
 ],
 "metadata": {
  "kernelspec": {
   "display_name": "Python 3",
   "language": "python",
   "name": "python3"
  },
  "language_info": {
   "codemirror_mode": {
    "name": "ipython",
    "version": 3
   },
   "file_extension": ".py",
   "mimetype": "text/x-python",
   "name": "python",
   "nbconvert_exporter": "python",
   "pygments_lexer": "ipython3",
   "version": "3.8.5"
  }
 },
 "nbformat": 4,
 "nbformat_minor": 5
}
